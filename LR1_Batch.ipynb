{
 "cells": [
  {
   "cell_type": "code",
   "execution_count": 4,
   "metadata": {},
   "outputs": [],
   "source": [
    "import numpy as np\n",
    "import pandas as pd\n",
    "import matplotlib.pyplot as plt\n"
   ]
  },
  {
   "cell_type": "code",
   "execution_count": 5,
   "metadata": {},
   "outputs": [
    {
     "name": "stderr",
     "output_type": "stream",
     "text": [
      "C:\\Users\\nikhi\\AppData\\Local\\Temp/ipykernel_80036/2024769991.py:13: RuntimeWarning: divide by zero encountered in log\n",
      "  errors = -tn * np.log(yn) - (1 - tn) * np.log(1 - yn)\n",
      "C:\\Users\\nikhi\\AppData\\Local\\Temp/ipykernel_80036/2024769991.py:13: RuntimeWarning: invalid value encountered in multiply\n",
      "  errors = -tn * np.log(yn) - (1 - tn) * np.log(1 - yn)\n",
      "C:\\Users\\nikhi\\AppData\\Local\\Temp/ipykernel_80036/2024769991.py:22: RuntimeWarning: overflow encountered in exp\n",
      "  return (1/(1+np.exp(-z)))\n"
     ]
    },
    {
     "name": "stdout",
     "output_type": "stream",
     "text": [
      "93.19371727748691\n",
      "100.0\n",
      "80.59701492537313\n"
     ]
    }
   ],
   "source": [
    "df = pd.read_excel(\"Dsata Set for Assignment 1.xlsx\")\n",
    "df = df.dropna()\n",
    "df['diagnosis'] = df['diagnosis'].replace({\"B\": 0, \"M\": 1})\n",
    "\n",
    "df_train = df.sample(frac=0.66, random_state=2326)\n",
    "df_test = df.drop(df_train.index)\n",
    "X_train = df_train.loc[:, \"radius_mean\":].values\n",
    "y_train = df_train.loc[:, \"diagnosis\":\"diagnosis\"].values\n",
    "X_test = df_test.loc[:, \"radius_mean\":].values\n",
    "y_test = df_test.loc[:, \"diagnosis\":\"diagnosis\"].values\n",
    "\n",
    "def costfunction(tn,yn):\n",
    "    errors = -tn * np.log(yn) - (1 - tn) * np.log(1 - yn)\n",
    "    return (errors)\n",
    "\n",
    "def initialize_weights(dim):\n",
    "    w = np.ones(dim)\n",
    "    return w\n",
    "\n",
    "\n",
    "def sigmoid(z):\n",
    "    return (1/(1+np.exp(-z)))\n",
    "\n",
    "\n",
    "def gradient(tn, yn, Xn):\n",
    "    dE = (yn-tn)*Xn\n",
    "    return dE\n",
    "\n",
    "\n",
    "def logregbatch(w, alpha):\n",
    "    Error = initialize_weights(X_train.shape[1])\n",
    "    for i in range(X_train.shape[0]):\n",
    "        z = sigmoid(np.dot(w.T, X_train[i]))\n",
    "        y_i = y_train[i]\n",
    "        Error = Error + gradient(y_i, z, X_train[i])\n",
    "        cost = costfunction(y_i, z)\n",
    "        cost_history.append(cost)\n",
    "    w = w - alpha * Error\n",
    "    return w\n",
    "\n",
    "\n",
    "cost_history = []\n",
    "w = initialize_weights(X_train.shape[1])\n",
    "alpha = 0.1\n",
    "epochs = 2000\n",
    "for epoch in range(epochs):\n",
    "    w = logregbatch(w, alpha)\n",
    "\n",
    "\n",
    "def checkAccuracy():\n",
    "    count = 0\n",
    "    for i in range(X_test.shape[0]):\n",
    "        k = sigmoid(np.dot(w.T, X_test[i]))\n",
    "        if k >= 0.5:\n",
    "            y_test_i = 1\n",
    "        else:\n",
    "            y_test_i = 0\n",
    "\n",
    "        if(y_test[i] == y_test_i):\n",
    "            count += 1\n",
    "\n",
    "    accuracy = count * 100\n",
    "    accuracy = accuracy/X_test.shape[0]\n",
    "    return accuracy\n",
    "\n",
    "\n",
    "def checkprecision():\n",
    "    true_positives = 0\n",
    "    total_positives = 0\n",
    "    for i in range(X_test.shape[0]):\n",
    "        k = sigmoid(np.dot(w.T, X_test[i]))\n",
    "        if k >= 0.5:\n",
    "            total_positives += 1\n",
    "            if(y_test[i] == 1):\n",
    "                true_positives += 1\n",
    "    precision = true_positives/total_positives\n",
    "    return precision*100\n",
    "\n",
    "def checkrecall():\n",
    "    true_positives = 0\n",
    "    false_negatives = 0\n",
    "    for i in range(X_test.shape[0]):\n",
    "        k = sigmoid(np.dot(w.T, X_test[i]))\n",
    "        if k >= 0.5:\n",
    "            if(y_test[i] == 1):\n",
    "                true_positives += 1\n",
    "        else:\n",
    "            if(y_test[i]==1):\n",
    "                false_negatives += 1\n",
    "                    \n",
    "    recall = true_positives/(true_positives+false_negatives)\n",
    "    return recall*100\n",
    "    \n",
    "    \n",
    "\n",
    "accuracy = checkAccuracy()\n",
    "precision = checkprecision()\n",
    "recall = checkrecall()\n",
    "\n",
    "print(accuracy)\n",
    "print(precision)\n",
    "print(recall)\n"
   ]
  },
  {
   "cell_type": "code",
   "execution_count": 6,
   "metadata": {},
   "outputs": [
    {
     "data": {
      "image/png": "[encoded data removed]",
      "text/plain": [
       "<Figure size 432x288 with 1 Axes>"
      ]
     },
     "metadata": {
      "needs_background": "light"
     },
     "output_type": "display_data"
    }
   ],
   "source": [
    "plt.plot(cost_history)\n",
    "\n",
    "plt.xlabel('Number of Iterations')\n",
    "plt.ylabel('Cost Values')\n",
    "plt.title('Plot of Cost Function')\n",
    "\n",
    "plt.show()\n"
   ]
  },
  {
   "cell_type": "code",
   "execution_count": null,
   "metadata": {},
   "outputs": [],
   "source": []
  }
 ],
 "metadata": {
  "kernelspec": {
   "display_name": "base",
   "language": "python",
   "name": "python3"
  },
  "language_info": {
   "codemirror_mode": {
    "name": "ipython",
    "version": 3
   },
   "file_extension": ".py",
   "mimetype": "text/x-python",
   "name": "python",
   "nbconvert_exporter": "python",
   "pygments_lexer": "ipython3",
   "version": "3.9.7"
  },
  "orig_nbformat": 4
 },
 "nbformat": 4,
 "nbformat_minor": 2
}
